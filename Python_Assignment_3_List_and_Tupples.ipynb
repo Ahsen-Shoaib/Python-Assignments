{
  "nbformat": 4,
  "nbformat_minor": 0,
  "metadata": {
    "colab": {
      "provenance": [],
      "authorship_tag": "ABX9TyNxw0SUMHlBMgowgD5KLNAr",
      "include_colab_link": true
    },
    "kernelspec": {
      "name": "python3",
      "display_name": "Python 3"
    },
    "language_info": {
      "name": "python"
    }
  },
  "cells": [
    {
      "cell_type": "markdown",
      "metadata": {
        "id": "view-in-github",
        "colab_type": "text"
      },
      "source": [
        "<a href=\"https://colab.research.google.com/github/Ahsen-Shoaib/Python-Assignments/blob/main/Python_Assignment_3_List_and_Tupples.ipynb\" target=\"_parent\"><img src=\"https://colab.research.google.com/assets/colab-badge.svg\" alt=\"Open In Colab\"/></a>"
      ]
    },
    {
      "cell_type": "code",
      "execution_count": 4,
      "metadata": {
        "colab": {
          "base_uri": "https://localhost:8080/"
        },
        "id": "xHo3lgc_Ebja",
        "outputId": "b27070df-1329-49ab-d6cf-bfce684770be"
      },
      "outputs": [
        {
          "output_type": "stream",
          "name": "stdout",
          "text": [
            "Updated list: [1, 2, 3, 4, 5, 6]\n",
            "Extended list: [1, 2, 3, 4, 5, 6]\n",
            "List after insertion: ['Java', 'C++', 'Python', 'JavaScript', 'Ruby']\n",
            "List after removing first occurrence of 10: [20, 30, 10, 40]\n",
            "List after popping the last element: [100, 200, 300]\n"
          ]
        }
      ],
      "source": [
        "# 1. Create a list of five numbers and append a new number to it. Print the updated list.\n",
        "\n",
        "# Initial list\n",
        "numbers = [1, 2, 3, 4, 5]\n",
        "\n",
        "# Append a new number\n",
        "numbers.append(6)\n",
        "\n",
        "# Print the updated list\n",
        "print(\"Updated list:\", numbers)\n",
        "\n",
        "# 2. Extend a list [1, 2, 3] with another list [4, 5, 6]. Print the result.\n",
        "\n",
        "# Initial lists\n",
        "list1 = [1, 2, 3]\n",
        "list2 = [4, 5, 6]\n",
        "\n",
        "# Extend list1 with list2\n",
        "list1.extend(list2)\n",
        "\n",
        "# Print the result\n",
        "print(\"Extended list:\", list1)\n",
        "\n",
        "# 3. Insert the string \"Python\" at index 2 in the list [\"Java\", \"C++\", \"JavaScript\", \"Ruby\"].\n",
        "\n",
        "# Initial list\n",
        "languages = [\"Java\", \"C++\", \"JavaScript\", \"Ruby\"]\n",
        "\n",
        "# Insert \"Python\" at index 2\n",
        "languages.insert(2, \"Python\")\n",
        "\n",
        "# Print the result\n",
        "print(\"List after insertion:\", languages)\n",
        "\n",
        "# 4. Remove the first occurrence of the number 10 from the list [10, 20, 30, 10, 40].\n",
        "\n",
        "# Initial list\n",
        "numbers = [10, 20, 30, 10, 40]\n",
        "\n",
        "# Remove the first occurrence of 10\n",
        "numbers.remove(10)\n",
        "\n",
        "# Print the modified list\n",
        "print(\"List after removing first occurrence of 10:\", numbers)\n",
        "\n",
        "# 5. Use the pop() method to remove the last element from [100, 200, 300, 400] and print the modified list.\n",
        "\n",
        "# Initial list\n",
        "numbers = [100, 200, 300, 400]\n",
        "\n",
        "# Use pop() to remove the last element\n",
        "numbers.pop()\n",
        "\n",
        "# Print the modified list\n",
        "print(\"List after popping the last element:\", numbers)"
      ]
    },
    {
      "cell_type": "code",
      "source": [
        "# 6. Count how many times the number 5 appears in the list [5, 10, 5, 20, 5, 30].\n",
        "\n",
        "# Initial list\n",
        "numbers = [5, 10, 5, 20, 5, 30]\n",
        "\n",
        "# Count the occurrences of 5\n",
        "count_5 = numbers.count(5)\n",
        "\n",
        "# Print the result\n",
        "print(\"The number 5 appears\", count_5, \"times.\")\n",
        "\n",
        "# 7. Sort the list [9, 1, 8, 3, 5] in ascending and descending order.\n",
        "\n",
        "# Initial list\n",
        "numbers = [9, 1, 8, 3, 5]\n",
        "\n",
        "# Sort in ascending order\n",
        "numbers_asc = sorted(numbers)\n",
        "\n",
        "# Sort in descending order\n",
        "numbers_desc = sorted(numbers, reverse=True)\n",
        "\n",
        "# Print the results\n",
        "print(\"Ascending order:\", numbers_asc)\n",
        "print(\"Descending order:\", numbers_desc)\n",
        "\n",
        "\n",
        "# 8. Reverse the list [“apple”, “banana”, “cherry”] using the reverse() method.\n",
        "\n",
        "# Initial list\n",
        "fruits = [\"apple\", \"banana\", \"cherry\"]\n",
        "\n",
        "# Reverse the list\n",
        "fruits.reverse()\n",
        "\n",
        "# Print the reversed list\n",
        "print(\"Reversed list:\", fruits)\n",
        "\n",
        "\n",
        "# 9. Create a copy of the list [1, 2, 3, 4, 5] and store it in another variable. Modify the copied list and print both lists.\n",
        "\n",
        "# Initial list\n",
        "original_list = [1, 2, 3, 4, 5]\n",
        "\n",
        "# Create a copy of the list\n",
        "copied_list = original_list.copy()\n",
        "\n",
        "# Modify the copied list\n",
        "copied_list.append(6)\n",
        "\n",
        "# Print both lists\n",
        "print(\"Original list:\", original_list)\n",
        "print(\"Copied list after modification:\", copied_list)\n",
        "\n",
        "\n",
        "# 10. Clear all elements from a list [“hello”, “world”, “python”] using the clear() method.\n",
        "\n",
        "# Initial list\n",
        "words = [\"hello\", \"world\", \"python\"]\n",
        "\n",
        "# Clear all elements from the list\n",
        "words.clear()\n",
        "\n",
        "# Print the cleared list\n",
        "print(\"List after clear():\", words)"
      ],
      "metadata": {
        "colab": {
          "base_uri": "https://localhost:8080/"
        },
        "id": "WSgOBiHhEtRu",
        "outputId": "55fb7201-daf6-4473-e664-35bd52d0b50a"
      },
      "execution_count": 5,
      "outputs": [
        {
          "output_type": "stream",
          "name": "stdout",
          "text": [
            "The number 5 appears 3 times.\n",
            "Ascending order: [1, 3, 5, 8, 9]\n",
            "Descending order: [9, 8, 5, 3, 1]\n",
            "Reversed list: ['cherry', 'banana', 'apple']\n",
            "Original list: [1, 2, 3, 4, 5]\n",
            "Copied list after modification: [1, 2, 3, 4, 5, 6]\n",
            "List after clear(): []\n"
          ]
        }
      ]
    },
    {
      "cell_type": "code",
      "source": [
        "# 11. Create a tuple with 5 different fruits and print the third fruit.\n",
        "\n",
        "# Tuple with 5 fruits\n",
        "fruits = (\"apple\", \"banana\", \"cherry\", \"date\", \"elderberry\")\n",
        "\n",
        "# Print the third fruit (index 2)\n",
        "print(\"The third fruit is:\", fruits[2])\n",
        "\n",
        "\n",
        "# 12. Convert the tuple (10, 20, 30, 40, 50) into a list, remove the number 30, and convert it back into a tuple.\n",
        "\n",
        "# Initial tuple\n",
        "tup = (10, 20, 30, 40, 50)\n",
        "\n",
        "# Convert tuple to list\n",
        "temp_list = list(tup)\n",
        "\n",
        "# Remove the number 30 from the list\n",
        "temp_list.remove(30)\n",
        "\n",
        "# Convert the list back to a tuple\n",
        "new_tup = tuple(temp_list)\n",
        "\n",
        "# Print the result\n",
        "print(\"New tuple after removing 30:\", new_tup)\n",
        "\n",
        "# 13. Try to append an element to the tuple (“A”, “B”, “C”). What happens? How can you modify a tuple indirectly?\n",
        "\n",
        "# Initial tuple\n",
        "tup = (\"A\", \"B\", \"C\")\n",
        "\n",
        "# Try to append to the tuple (will raise an error)\n",
        "try:\n",
        "    tup.append(\"D\")\n",
        "except AttributeError as e:\n",
        "    print(\"Error:\", e)\n",
        "\n",
        "# Modify a tuple indirectly (by converting it to a list, appending, and converting it back)\n",
        "tup_list = list(tup)\n",
        "tup_list.append(\"D\")\n",
        "\n",
        "# Convert the modified list back to a tuple\n",
        "new_tup = tuple(tup_list)\n",
        "\n",
        "# Print the modified tuple\n",
        "print(\"Modified tuple:\", new_tup)\n",
        "\n",
        "# 14. Unpack the tuple (100, 200, 300) into three separate variables and print them.\n",
        "\n",
        "# Initial tuple\n",
        "tup = (100, 200, 300)\n",
        "\n",
        "# Unpack the tuple into separate variables\n",
        "a, b, c = tup\n",
        "\n",
        "# Print the unpacked variables\n",
        "print(\"Unpacked values:\", a, b, c)\n",
        "\n",
        "\n",
        "# 15. Count the occurrences of 7 in the tuple (7, 1, 7, 3, 7, 5).\n",
        "\n",
        "# Initial tuple\n",
        "tup = (7, 1, 7, 3, 7, 5)\n",
        "\n",
        "# Count the occurrences of 7\n",
        "count_7 = tup.count(7)\n",
        "\n",
        "# Print the result\n",
        "print(\"The number 7 appears\", count_7, \"times.\")"
      ],
      "metadata": {
        "colab": {
          "base_uri": "https://localhost:8080/"
        },
        "id": "3JZ8kiaLE6Nt",
        "outputId": "10df33c2-f7a4-4375-d769-b03f88e60bd6"
      },
      "execution_count": 6,
      "outputs": [
        {
          "output_type": "stream",
          "name": "stdout",
          "text": [
            "The third fruit is: cherry\n",
            "New tuple after removing 30: (10, 20, 40, 50)\n",
            "Error: 'tuple' object has no attribute 'append'\n",
            "Modified tuple: ('A', 'B', 'C', 'D')\n",
            "Unpacked values: 100 200 300\n",
            "The number 7 appears 3 times.\n"
          ]
        }
      ]
    },
    {
      "cell_type": "code",
      "source": [],
      "metadata": {
        "id": "iCjlvyT0FHHL"
      },
      "execution_count": null,
      "outputs": []
    },
    {
      "cell_type": "code",
      "source": [
        "# 16. Write a function that takes a list and returns a new list with all even numbers removed.\n",
        "\n",
        "\n",
        "def remove_even_numbers(lst):\n",
        "    # Create a new list with only odd numbers\n",
        "    return [x for x in lst if x % 2 != 0]\n",
        "\n",
        "# Example usage\n",
        "numbers = [1, 2, 3, 4, 5, 6, 7, 8]\n",
        "result = remove_even_numbers(numbers)\n",
        "print(\"List with even numbers removed:\", result)\n",
        "\n",
        "\n",
        "# 17. Create a function that accepts a list and returns a new list with elements sorted in descending order without using the sort() method.\n",
        "\n",
        "def sort_descending(lst):\n",
        "    # Use the sorted function with reverse=True for descending order\n",
        "    return sorted(lst, reverse=True)\n",
        "\n",
        "# Example usage\n",
        "numbers = [5, 3, 9, 1, 7]\n",
        "result = sort_descending(numbers)\n",
        "print(\"List sorted in descending order:\", result)\n",
        "\n",
        "\n",
        "# 18. Given a list of numbers, write a program to remove all duplicate elements and print the unique elements.\n",
        "\n",
        "def remove_duplicates(lst):\n",
        "    # Use a set to remove duplicates, then convert it back to a list\n",
        "    return list(set(lst))\n",
        "\n",
        "# Example usage\n",
        "numbers = [10, 20, 10, 30, 40, 20, 50]\n",
        "unique_numbers = remove_duplicates(numbers)\n",
        "print(\"Unique elements:\", unique_numbers)\n",
        "\n",
        "# 19. Given a tuple of names (“Alice”, “Bob”, “Charlie”, “Alice”, “David”), convert it into a list, remove duplicates, and convert it back to a tuple.\n",
        "\n",
        "def remove_tuple_duplicates(tup):\n",
        "    # Convert tuple to a list, remove duplicates by converting it to a set, then back to a tuple\n",
        "    return tuple(set(tup))\n",
        "\n",
        "# Example usage\n",
        "names = (\"Alice\", \"Bob\", \"Charlie\", \"Alice\", \"David\")\n",
        "unique_names = remove_tuple_duplicates(names)\n",
        "print(\"Tuple with duplicates removed:\", unique_names)"
      ],
      "metadata": {
        "colab": {
          "base_uri": "https://localhost:8080/"
        },
        "id": "RiHNIYe5FSQ0",
        "outputId": "e838c469-f183-447e-fe41-5f5c6d2b5d98"
      },
      "execution_count": 7,
      "outputs": [
        {
          "output_type": "stream",
          "name": "stdout",
          "text": [
            "List with even numbers removed: [1, 3, 5, 7]\n",
            "List sorted in descending order: [9, 7, 5, 3, 1]\n",
            "Unique elements: [40, 10, 50, 20, 30]\n",
            "Tuple with duplicates removed: ('Alice', 'Charlie', 'Bob', 'David')\n"
          ]
        }
      ]
    }
  ]
}